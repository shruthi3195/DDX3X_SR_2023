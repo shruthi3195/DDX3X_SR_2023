{
 "cells": [
  {
   "cell_type": "code",
   "execution_count": null,
   "id": "ac3ebe8d-a7b9-4d49-990c-70e039774b26",
   "metadata": {},
   "outputs": [],
   "source": [
    "import pandas as pd\n",
    "import numpy as np \n",
    "import matplotlib.pyplot as plt"
   ]
  },
  {
   "cell_type": "code",
   "execution_count": null,
   "id": "9856f073-e368-462e-a48d-5d8cc23a3ab3",
   "metadata": {},
   "outputs": [],
   "source": [
    "#file.txt is a data file containing Sample names with X and Y values to be plotted with scatter. Used in Fig 1A, 1B, 1C, 5A. \n",
    "file = pd.read_csv(\"file.txt\", error_bad_lines = False, sep = '\\t')\n",
    "image = plt.scatter(data=file,x='X',y='Y',s=100,color = 'grey')\n",
    "for i in range(file.shape[0]):\n",
    " plt.text(x=file.X[i],y=file.Y[i],s=file.SampleName[i], \n",
    "          fontdict=dict(color='black',size=10))\n",
    "plt.xlim([10,103])\n",
    "plt.ylim([40,103])\n",
    "plt.figure(figsize=(6.5,6.5))"
   ]
  }
 ],
 "metadata": {
  "kernelspec": {
   "display_name": "Python 3",
   "language": "python",
   "name": "python3"
  },
  "language_info": {
   "codemirror_mode": {
    "name": "ipython",
    "version": 3
   },
   "file_extension": ".py",
   "mimetype": "text/x-python",
   "name": "python",
   "nbconvert_exporter": "python",
   "pygments_lexer": "ipython3",
   "version": "3.6.9"
  }
 },
 "nbformat": 4,
 "nbformat_minor": 5
}
