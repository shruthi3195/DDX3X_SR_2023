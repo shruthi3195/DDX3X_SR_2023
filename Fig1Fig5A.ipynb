{
 "cells": [
  {
   "cell_type": "code",
   "execution_count": 37,
   "id": "cf180ef4-df00-47a5-874d-2facacd32645",
   "metadata": {},
   "outputs": [],
   "source": [
    "import pandas as pd\n",
    "import os\n",
    "import numpy as np \n",
    "import math as m \n",
    "import matplotlib.pyplot as plt\n",
    "import seaborn as sns\n",
    "os.chdir(\"/lab/solexa_page/shruthir/Adrianna\")"
   ]
  },
  {
   "cell_type": "code",
   "execution_count": null,
   "id": "af261822-0f78-4607-97b9-335cbfd7f455",
   "metadata": {},
   "outputs": [],
   "source": [
    "#Fig1A: analysis of constraint \n",
    "constraint = pd.read_csv(\"constraint_broad.txt\", error_bad_lines = False, sep = '\\t')\n",
    "constrain = plt.scatter(data=constraint,x='LOEUF_rank',y='PCT_rank',s=100,color = 'grey')\n",
    "plt.xlim([10,103])\n",
    "plt.ylim([40,103])\n",
    "plt.figure(figsize=(6.5,6.5))\n",
    "plt.savefig('constraint.png', dpi = 300)"
   ]
  },
  {
   "cell_type": "code",
   "execution_count": null,
   "id": "b2cd84ab-d8f4-4dd1-aa02-6f45ad3e7377",
   "metadata": {},
   "outputs": [],
   "source": [
    "#Fig1B: Gtex vs chicken expression breadth X\n",
    "breadth = pd.read_csv(\"expressionbreadth.txt\",error_bad_lines = False, sep = '\\t')\n",
    "sns.scatterplot(data=breadth,x='Human_GtexX',y='Chicken',s=100, color = 'grey')\n",
    "plt.savefig('expressionbreadthX.svg', dpi = 300)"
   ]
  },
  {
   "cell_type": "code",
   "execution_count": null,
   "id": "102b7998-2c6d-46c7-8679-907b9d3636bc",
   "metadata": {},
   "outputs": [],
   "source": [
    "#Fig1C: Gtex vs chicken expression breadth Y\n",
    "sns.scatterplot(data=breadth,x='Human_GtexY',y='Chicken',s=100, color = 'grey')\n",
    "plt.savefig('expressionbreadthY.svg', dpi = 300)"
   ]
  },
  {
   "cell_type": "code",
   "execution_count": 38,
   "id": "c53b1fb3-516f-46e2-9e30-73e563a27355",
   "metadata": {},
   "outputs": [
    {
     "data": {
      "text/html": [
       "<div>\n",
       "<style scoped>\n",
       "    .dataframe tbody tr th:only-of-type {\n",
       "        vertical-align: middle;\n",
       "    }\n",
       "\n",
       "    .dataframe tbody tr th {\n",
       "        vertical-align: top;\n",
       "    }\n",
       "\n",
       "    .dataframe thead th {\n",
       "        text-align: right;\n",
       "    }\n",
       "</style>\n",
       "<table border=\"1\" class=\"dataframe\">\n",
       "  <thead>\n",
       "    <tr style=\"text-align: right;\">\n",
       "      <th></th>\n",
       "      <th>Gene</th>\n",
       "      <th>AR</th>\n",
       "      <th>deltaEx</th>\n",
       "    </tr>\n",
       "  </thead>\n",
       "  <tbody>\n",
       "    <tr>\n",
       "      <th>0</th>\n",
       "      <td>RPS4X</td>\n",
       "      <td>0.584055</td>\n",
       "      <td>0.604</td>\n",
       "    </tr>\n",
       "    <tr>\n",
       "      <th>1</th>\n",
       "      <td>ZFX</td>\n",
       "      <td>0.528023</td>\n",
       "      <td>0.453</td>\n",
       "    </tr>\n",
       "    <tr>\n",
       "      <th>2</th>\n",
       "      <td>PRKX</td>\n",
       "      <td>0.532412</td>\n",
       "      <td>0.467</td>\n",
       "    </tr>\n",
       "    <tr>\n",
       "      <th>3</th>\n",
       "      <td>USP9X</td>\n",
       "      <td>0.095447</td>\n",
       "      <td>0.137</td>\n",
       "    </tr>\n",
       "    <tr>\n",
       "      <th>4</th>\n",
       "      <td>DDX3X</td>\n",
       "      <td>0.568709</td>\n",
       "      <td>0.257</td>\n",
       "    </tr>\n",
       "    <tr>\n",
       "      <th>5</th>\n",
       "      <td>KDM6A</td>\n",
       "      <td>0.771394</td>\n",
       "      <td>0.829</td>\n",
       "    </tr>\n",
       "    <tr>\n",
       "      <th>6</th>\n",
       "      <td>EIF1AX</td>\n",
       "      <td>0.364360</td>\n",
       "      <td>0.511</td>\n",
       "    </tr>\n",
       "  </tbody>\n",
       "</table>\n",
       "</div>"
      ],
      "text/plain": [
       "     Gene        AR  deltaEx\n",
       "0   RPS4X  0.584055    0.604\n",
       "1     ZFX  0.528023    0.453\n",
       "2    PRKX  0.532412    0.467\n",
       "3   USP9X  0.095447    0.137\n",
       "4   DDX3X  0.568709    0.257\n",
       "5   KDM6A  0.771394    0.829\n",
       "6  EIF1AX  0.364360    0.511"
      ]
     },
     "execution_count": 38,
     "metadata": {},
     "output_type": "execute_result"
    }
   ],
   "source": [
    "#Fig 5A: Allelic ratio\n",
    "ar = pd.read_csv(\"xypairsAR.csv\", error_bad_lines = False, sep = '\\t')\n",
    "plt.figure(figsize=(6.5,6.5))\n",
    "sns.scatterplot(data=ar,x='deltaEx',y='AR',s=100, color = 'grey')\n",
    "#for i in range(ar.shape[0]):\n",
    " #plt.text(x=ar.deltaEx[i],y=ar.AR[i],s=ar.Gene[i], \n",
    "          #fontdict=dict(color='black',size=10))\n",
    "plt.xlim([0,0.9])\n",
    "plt.ylim([0,0.9])\n",
    "#plt.axhline(y=0.45, color='k', linestyle='--', linewidth=1)           \n",
    "#plt.axvline(x=0.45, color='k',linestyle='--', linewidth=1)\n",
    "\n",
    "plt.savefig('ar.svg', dpi = 300)"
   ]
  }
 ],
 "metadata": {
  "kernelspec": {
   "display_name": "Python 3",
   "language": "python",
   "name": "python3"
  },
  "language_info": {
   "codemirror_mode": {
    "name": "ipython",
    "version": 3
   },
   "file_extension": ".py",
   "mimetype": "text/x-python",
   "name": "python",
   "nbconvert_exporter": "python",
   "pygments_lexer": "ipython3",
   "version": "3.8.10"
  }
 },
 "nbformat": 4,
 "nbformat_minor": 5
}
