{
 "cells": [
  {
   "cell_type": "code",
   "execution_count": 10,
   "id": "1b9c140d-e8fe-4bb9-bfb8-f6810822ba05",
   "metadata": {},
   "outputs": [],
   "source": [
    "import pandas as pd\n",
    "import os\n",
    "import numpy as np \n",
    "import math as m \n",
    "import matplotlib.pyplot as plt\n",
    "import scipy as sp\n",
    "os.chdir(\"/lab/solexa_page/shruthir/5EU_2021_8/2023/\")"
   ]
  },
  {
   "cell_type": "code",
   "execution_count": 11,
   "id": "b4ad2626-cc20-4fcd-8557-8a07c64065e6",
   "metadata": {},
   "outputs": [
    {
     "data": {
      "text/html": [
       "<div>\n",
       "<style scoped>\n",
       "    .dataframe tbody tr th:only-of-type {\n",
       "        vertical-align: middle;\n",
       "    }\n",
       "\n",
       "    .dataframe tbody tr th {\n",
       "        vertical-align: top;\n",
       "    }\n",
       "\n",
       "    .dataframe thead th {\n",
       "        text-align: right;\n",
       "    }\n",
       "</style>\n",
       "<table border=\"1\" class=\"dataframe\">\n",
       "  <thead>\n",
       "    <tr style=\"text-align: right;\">\n",
       "      <th></th>\n",
       "      <th>Time</th>\n",
       "      <th>XY</th>\n",
       "      <th>XYYYY</th>\n",
       "    </tr>\n",
       "  </thead>\n",
       "  <tbody>\n",
       "    <tr>\n",
       "      <th>0</th>\n",
       "      <td>0.0</td>\n",
       "      <td>0.000394</td>\n",
       "      <td>0.000921</td>\n",
       "    </tr>\n",
       "    <tr>\n",
       "      <th>1</th>\n",
       "      <td>0.5</td>\n",
       "      <td>0.001895</td>\n",
       "      <td>0.002885</td>\n",
       "    </tr>\n",
       "    <tr>\n",
       "      <th>2</th>\n",
       "      <td>1.0</td>\n",
       "      <td>0.003318</td>\n",
       "      <td>0.005570</td>\n",
       "    </tr>\n",
       "    <tr>\n",
       "      <th>3</th>\n",
       "      <td>1.5</td>\n",
       "      <td>0.003933</td>\n",
       "      <td>0.005239</td>\n",
       "    </tr>\n",
       "    <tr>\n",
       "      <th>4</th>\n",
       "      <td>2.0</td>\n",
       "      <td>0.004903</td>\n",
       "      <td>0.005052</td>\n",
       "    </tr>\n",
       "  </tbody>\n",
       "</table>\n",
       "</div>"
      ],
      "text/plain": [
       "   Time        XY     XYYYY\n",
       "0   0.0  0.000394  0.000921\n",
       "1   0.5  0.001895  0.002885\n",
       "2   1.0  0.003318  0.005570\n",
       "3   1.5  0.003933  0.005239\n",
       "4   2.0  0.004903  0.005052"
      ]
     },
     "execution_count": 11,
     "metadata": {},
     "output_type": "execute_result"
    }
   ],
   "source": [
    "DDX3XEU = pd.read_csv(\"5eushorttimeDDX3X.txt\", sep = '\\t')\n",
    "DDX3XEU"
   ]
  },
  {
   "cell_type": "code",
   "execution_count": 12,
   "id": "2b17efae-ead3-4416-8abb-033727ac44bf",
   "metadata": {},
   "outputs": [],
   "source": [
    "x = DDX3XEU.Time"
   ]
  },
  {
   "cell_type": "code",
   "execution_count": 13,
   "id": "1d3ffda4-aae6-4838-aed8-6ec8ffb5b004",
   "metadata": {},
   "outputs": [],
   "source": [
    "y = DDX3XEU.XY"
   ]
  },
  {
   "cell_type": "code",
   "execution_count": 14,
   "id": "c7482cb2-bb16-4624-8258-892f622b0b75",
   "metadata": {},
   "outputs": [],
   "source": [
    "def test(x, a, b):\n",
    "    return a/b * (1-np.exp(-b*(x)))               "
   ]
  },
  {
   "cell_type": "code",
   "execution_count": 15,
   "id": "2745f390-bacc-40bc-8dfc-3dbe74027844",
   "metadata": {},
   "outputs": [],
   "source": [
    "from scipy.optimize import curve_fit\n",
    "param, param_cov = curve_fit(test, x, y)"
   ]
  },
  {
   "cell_type": "code",
   "execution_count": 16,
   "id": "21d81131-2151-4963-a61f-c649bc692586",
   "metadata": {},
   "outputs": [],
   "source": [
    "ans = (param[0]/param[1] * (1-np.exp(-param[1]*x)))"
   ]
  },
  {
   "cell_type": "code",
   "execution_count": 18,
   "id": "b884b71c-0f43-4793-9eb6-84a1f685b90a",
   "metadata": {},
   "outputs": [
    {
     "name": "stderr",
     "output_type": "stream",
     "text": [
      "No handles with labels found to put in legend.\n"
     ]
    },
    {
     "data": {
      "image/png": "[encoded data removed]",
      "text/plain": [
       "<Figure size 432x288 with 1 Axes>"
      ]
     },
     "metadata": {
      "needs_background": "light"
     },
     "output_type": "display_data"
    }
   ],
   "source": [
    "plt.plot(x, y, 'o', color ='orange', label = 'XY')\n",
    "plt.plot(x, ans, '--', color ='orange')\n",
    "plt.legend()\n",
    "plt.show()"
   ]
  },
  {
   "cell_type": "code",
   "execution_count": 18,
   "id": "c3334a5f-725b-4b94-b9d3-f66b2ebabcc4",
   "metadata": {},
   "outputs": [],
   "source": [
    "#Create fit and plot\n",
    "y2 = DDX3XEU.XYYYY\n",
    "\n",
    "from scipy.optimize import curve_fit\n",
    "param2, param_cov2 = curve_fit(test, x, y2)\n",
    "ans2 = (param2[0]/param2[1] * (1-np.exp(-param2[1]*x)))\n",
    "\n",
    "#plt.show()\n",
    "# p value of 3.078e-8 by Kolmogorov-Smirnov test"
   ]
  },
  {
   "cell_type": "code",
   "execution_count": 41,
   "id": "1406b543-4a23-4a9c-8317-eb83d4d17143",
   "metadata": {},
   "outputs": [
    {
     "data": {
      "image/png": "[encoded data removed]",
      "text/plain": [
       "<Figure size 432x288 with 1 Axes>"
      ]
     },
     "metadata": {
      "needs_background": "light"
     },
     "output_type": "display_data"
    }
   ],
   "source": [
    "#Combining both plots into one graph \n",
    "plt.plot(x, y, 'o', color ='grey', label = 'XY')\n",
    "plt.plot(x, ans, '--', color ='grey')\n",
    "plt.legend()\n",
    "plt.plot(x, y2, 'o', color ='purple', label = 'XYYYY')\n",
    "plt.plot(x, ans2, '--', color ='purple')\n",
    "plt.legend()\n",
    "#plt.show()\n",
    "plt.savefig(\"CurvefitDDX3X.png\", dpi = 300)"
   ]
  },
  {
   "cell_type": "code",
   "execution_count": 19,
   "id": "b5924187-5336-48b3-b5b1-c2917515928e",
   "metadata": {},
   "outputs": [
    {
     "data": {
      "text/plain": [
       "array([0.01070251, 1.92967007])"
      ]
     },
     "execution_count": 19,
     "metadata": {},
     "output_type": "execute_result"
    }
   ],
   "source": [
    "param2"
   ]
  },
  {
   "cell_type": "code",
   "execution_count": 105,
   "id": "63878382-c05a-4cbe-9991-9da304714006",
   "metadata": {},
   "outputs": [
    {
     "data": {
      "text/html": [
       "<div>\n",
       "<style scoped>\n",
       "    .dataframe tbody tr th:only-of-type {\n",
       "        vertical-align: middle;\n",
       "    }\n",
       "\n",
       "    .dataframe tbody tr th {\n",
       "        vertical-align: top;\n",
       "    }\n",
       "\n",
       "    .dataframe thead th {\n",
       "        text-align: right;\n",
       "    }\n",
       "</style>\n",
       "<table border=\"1\" class=\"dataframe\">\n",
       "  <thead>\n",
       "    <tr style=\"text-align: right;\">\n",
       "      <th></th>\n",
       "      <th>Time</th>\n",
       "      <th>XY</th>\n",
       "      <th>XYYYY</th>\n",
       "    </tr>\n",
       "  </thead>\n",
       "  <tbody>\n",
       "    <tr>\n",
       "      <th>0</th>\n",
       "      <td>0.0</td>\n",
       "      <td>0.000127</td>\n",
       "      <td>0.000048</td>\n",
       "    </tr>\n",
       "    <tr>\n",
       "      <th>1</th>\n",
       "      <td>1.0</td>\n",
       "      <td>0.007680</td>\n",
       "      <td>0.030222</td>\n",
       "    </tr>\n",
       "    <tr>\n",
       "      <th>2</th>\n",
       "      <td>3.5</td>\n",
       "      <td>0.020875</td>\n",
       "      <td>0.030977</td>\n",
       "    </tr>\n",
       "    <tr>\n",
       "      <th>3</th>\n",
       "      <td>7.0</td>\n",
       "      <td>0.028898</td>\n",
       "      <td>0.028524</td>\n",
       "    </tr>\n",
       "  </tbody>\n",
       "</table>\n",
       "</div>"
      ],
      "text/plain": [
       "   Time        XY     XYYYY\n",
       "0   0.0  0.000127  0.000048\n",
       "1   1.0  0.007680  0.030222\n",
       "2   3.5  0.020875  0.030977\n",
       "3   7.0  0.028898  0.028524"
      ]
     },
     "execution_count": 105,
     "metadata": {},
     "output_type": "execute_result"
    }
   ],
   "source": [
    "oldEU = pd.read_csv(\"5EUXYYY.txt\",sep = '\\t')\n",
    "oldEU"
   ]
  },
  {
   "cell_type": "code",
   "execution_count": 106,
   "id": "d7c94666-a1c6-482b-91ea-be9f07e99a38",
   "metadata": {},
   "outputs": [],
   "source": [
    "#Repeating everything for long time points \n",
    "def test(x, a, b):\n",
    "    return a/b * (1-np.exp(-b*(x)))  "
   ]
  },
  {
   "cell_type": "code",
   "execution_count": 107,
   "id": "663ea921-dfa8-41bb-9932-605c428f03a3",
   "metadata": {},
   "outputs": [],
   "source": [
    "#Fit Long time points\n",
    "xlong = oldEU.Time\n",
    "y3 = oldEU.XY\n",
    "y4 = oldEU.XYYYY\n",
    "\n",
    "from scipy.optimize import curve_fit\n",
    "param3, param_cov3 = curve_fit(test, xlong, y3)\n",
    "ans3 = (param3[0]/param3[1] * (1-np.exp(-param3[1]*xlong)))\n",
    "\n",
    "param4, param_cov4 = curve_fit(test, xlong, y4)\n",
    "ans4 = (param4[0]/param4[1] * (1-np.exp(-param4[1]*xlong)))"
   ]
  },
  {
   "cell_type": "code",
   "execution_count": 92,
   "id": "d6a571f7-1659-40d8-be0d-b6b5f9660c1b",
   "metadata": {},
   "outputs": [
    {
     "data": {
      "text/plain": [
       "0    0.000000\n",
       "1    0.009592\n",
       "3    0.017222\n",
       "4    0.018591\n",
       "Name: Time, dtype: float64"
      ]
     },
     "execution_count": 92,
     "metadata": {},
     "output_type": "execute_result"
    }
   ],
   "source": [
    "#Get half life values"
   ]
  },
  {
   "cell_type": "code",
   "execution_count": 108,
   "id": "03f1ae2b-de8a-4dd9-9141-a175fbf807d2",
   "metadata": {},
   "outputs": [
    {
     "data": {
      "image/png": "[encoded data removed]",
      "text/plain": [
       "<Figure size 432x288 with 1 Axes>"
      ]
     },
     "metadata": {
      "needs_background": "light"
     },
     "output_type": "display_data"
    }
   ],
   "source": [
    "#Plot long time points\n",
    "plt.plot(xlong, y3, 'o', color ='grey', label = 'XY')\n",
    "plt.plot(xlong, ans3, '--', color ='grey')\n",
    "plt.legend()\n",
    "plt.plot(xlong, y4, 'o', color ='purple', label = 'XYYYY')\n",
    "plt.plot(xlong, ans4, '--', color ='purple')\n",
    "plt.legend()\n",
    "#plt.show()\n",
    "plt.savefig(\"CurvefitDDX3Xlong.svg\", dpi = 300)"
   ]
  }
 ],
 "metadata": {
  "kernelspec": {
   "display_name": "Python 3",
   "language": "python",
   "name": "python3"
  },
  "language_info": {
   "codemirror_mode": {
    "name": "ipython",
    "version": 3
   },
   "file_extension": ".py",
   "mimetype": "text/x-python",
   "name": "python",
   "nbconvert_exporter": "python",
   "pygments_lexer": "ipython3",
   "version": "3.8.10"
  }
 },
 "nbformat": 4,
 "nbformat_minor": 5
}
